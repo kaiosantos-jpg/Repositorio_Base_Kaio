{
 "cells": [
  {
   "cell_type": "markdown",
   "metadata": {
    "id": "sZRRc04ZvnCU"
   },
   "source": [
    "### Revisão de Conceitos Básicos - Módulo 2\n",
    "\n"
   ]
  },
  {
   "cell_type": "markdown",
   "metadata": {
    "id": "MS6jnX5ywCOq"
   },
   "source": [
    "# Módulo CSV - Leitura de Arquivos"
   ]
  },
  {
   "cell_type": "code",
   "execution_count": 30,
   "metadata": {
    "id": "yf743XPmvY1p"
   },
   "outputs": [],
   "source": [
    "# Como eu faria para ler um arquivo csv ? qual função eu usaria ?\n",
    "\n",
    "import csv\n",
    "\n",
    "# Forma correta de ler um arquivo CSV\n",
    "with open('arquivo.csv', 'r') as arquivo:\n",
    "    leitor = csv.reader(arquivo)\n",
    "    for linha in leitor:\n",
    "        print(linha)\n",
    "\n"
   ]
  },
  {
   "cell_type": "code",
   "execution_count": null,
   "metadata": {
    "id": "pBihX2tsAbTy"
   },
   "outputs": [],
   "source": [
    "# Para lembrar todo csv é um tipo de arquivo que tem suas \"colunas\", separadas por alguma coisa\n",
    "# quando não definimos o separador o python entende que é uma virgula \",\"\n",
    "\n",
    "import csv\n",
    "\n",
    "# Delimitador padrão: vírgula\n",
    "with open('dados.csv', 'r') as arquivo:\n",
    "    leitor = csv.reader(arquivo)  # Usa vírgula como delimitador\n",
    "\n",
    "# Delimitador personalizado\n",
    "with open('dados.csv', 'r') as arquivo:\n",
    "    leitor = csv.reader(arquivo, delimiter=';')  # Usa ponto e vírgula"
   ]
  },
  {
   "cell_type": "code",
   "execution_count": null,
   "metadata": {
    "id": "bO8Cis1PB2ka"
   },
   "outputs": [],
   "source": [
    "import csv\n",
    "\n",
    "# Lembrando que utilizamos o \"r\" de read ou seja leitura\n",
    "# Utilizamos o with open para trabalhar com o arquivo aberto, caso ocorra algum problema ó arquivo será fechado automaticamente\n",
    "\n",
    "with open('dados.csv', 'r') as arquivo:\n",
    "    leitor = csv.reader(arquivo, delimiter=';')  # Usa ponto e vírgula"
   ]
  },
  {
   "cell_type": "markdown",
   "metadata": {
    "id": "B5PW_lOJwe2q"
   },
   "source": [
    "# Módulo Requests - Requisição GET\n",
    "\n"
   ]
  },
  {
   "cell_type": "code",
   "execution_count": null,
   "metadata": {
    "id": "TEC-V6S7wdtD"
   },
   "outputs": [],
   "source": [
    "# Quando eu quero pegar alguma informação de uma API ? como eu faço ? e se for na biblioteca requests ?\n",
    "\n",
    "import requests\n",
    "\n",
    "# Forma correta de fazer uma requisição GET\n",
    "response = requests.get('https://api.exemplo.com/dados')\n",
    "print(response.status_code)  # Verifica o status da requisição"
   ]
  },
  {
   "cell_type": "markdown",
   "metadata": {
    "id": "Fo2NZVHZ2lMc"
   },
   "source": [
    "# Métodos HTTP - Criação de Recurso\n"
   ]
  },
  {
   "cell_type": "code",
   "execution_count": null,
   "metadata": {
    "id": "-VfnWBMB2q9E"
   },
   "outputs": [],
   "source": [
    "# Quando eu quero \"Postar\" algo novo, adicionar uma informação nova em uma API como eu faço ?\n",
    "\n",
    "import requests\n",
    "\n",
    "# Exemplo de POST para criar novo recurso\n",
    "dados = {'nome': 'João', 'idade': 25}\n",
    "response = requests.post('https://api.exemplo.com/usuarios', json=dados)"
   ]
  },
  {
   "cell_type": "markdown",
   "metadata": {
    "id": "zRGllm0x_HDM"
   },
   "source": [
    "# Status Code\n"
   ]
  },
  {
   "cell_type": "code",
   "execution_count": null,
   "metadata": {
    "id": "J_2qU41s_Kx9"
   },
   "outputs": [],
   "source": [
    "# Cada código que a API nos retorna significa um status por exemplo 200\n",
    "import requests\n",
    "\n",
    "response = requests.get('https://api.exemplo.com/dados')\n",
    "if response.status_code == 200:\n",
    "    print(\"Requisição bem-sucedida!\")\n",
    "    dados = response.json()"
   ]
  },
  {
   "cell_type": "code",
   "execution_count": null,
   "metadata": {
    "id": "S79TTv0y_d5V"
   },
   "outputs": [],
   "source": [
    "# Outro exemplo clássico é o 404\n",
    "import requests\n",
    "\n",
    "response = requests.get('https://api.exemplo.com/dados')\n",
    "if response.status_code == 404:\n",
    "    print(\"Recurso não encontrado!\")"
   ]
  },
  {
   "cell_type": "markdown",
   "metadata": {
    "id": "FpAue-Ic3SIE"
   },
   "source": [
    "# Estrutura JSON\n"
   ]
  },
  {
   "cell_type": "code",
   "execution_count": null,
   "metadata": {
    "id": "TQJ2ELMr3ThF"
   },
   "outputs": [],
   "source": [
    "import json\n",
    "# Como criar um Json de forma correta?\n",
    "\n",
    "# JSON válido em Python - aspas duplas obrigatórias\n",
    "dados_validos = {\"nome\": \"Ana\", \"idade\": 30}\n",
    "\n",
    "# Conversão para string JSON\n",
    "json_string = json.dumps(dados_validos)\n",
    "print(json_string)  # '{\"nome\": \"Ana\", \"idade\": 30}'"
   ]
  }
 ],
 "metadata": {
  "colab": {
   "authorship_tag": "ABX9TyMd7sg1EfMTtacCJ98/Kj8b",
   "collapsed_sections": [
    "MS6jnX5ywCOq",
    "B5PW_lOJwe2q",
    "Fo2NZVHZ2lMc",
    "zRGllm0x_HDM",
    "FpAue-Ic3SIE"
   ],
   "provenance": []
  },
  "kernelspec": {
   "display_name": "Python 3",
   "name": "python3"
  },
  "language_info": {
   "codemirror_mode": {
    "name": "ipython",
    "version": 3
   },
   "file_extension": ".py",
   "mimetype": "text/x-python",
   "name": "python",
   "nbconvert_exporter": "python",
   "pygments_lexer": "ipython3",
   "version": "3.13.2"
  }
 },
 "nbformat": 4,
 "nbformat_minor": 0
}
