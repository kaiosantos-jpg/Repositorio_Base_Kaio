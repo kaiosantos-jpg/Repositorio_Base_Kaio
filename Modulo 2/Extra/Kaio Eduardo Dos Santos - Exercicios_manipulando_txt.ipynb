{
 "cells": [
  {
   "cell_type": "markdown",
   "id": "ec2b2ae4",
   "metadata": {},
   "source": [
    "### Exercício 1: Criando e escrevendo em um arquivo\n",
    "\n",
    "Crie um arquivo chamado meu_arquivo.txt e escreva nele a seguinte frase: \"Estou criando esse arquivo de texto em Python!\""
   ]
  },
  {
   "cell_type": "code",
   "execution_count": 34,
   "id": "cffe2a6d",
   "metadata": {},
   "outputs": [],
   "source": [
    "with open('meu_arquivo.txt' , 'w') as f:\n",
    "    f.write(\"Estou criando esse arquivo de texto em Python!\\n\")"
   ]
  },
  {
   "cell_type": "markdown",
   "id": "4b3f7a89",
   "metadata": {},
   "source": [
    "### Exercício 2: Lendo o conteúdo do arquivo\n",
    "\n",
    "\n",
    "Agora leia o conteúdo do arquivo meu_arquivo.txt que você criou no exercício anterior e mostre-o na tela."
   ]
  },
  {
   "cell_type": "code",
   "execution_count": 35,
   "id": "e5edc612",
   "metadata": {},
   "outputs": [
    {
     "name": "stdout",
     "output_type": "stream",
     "text": [
      "Estou criando esse arquivo de texto em Python!\n",
      "\n"
     ]
    }
   ],
   "source": [
    "with open('meu_arquivo.txt', 'r') as f:\n",
    "    conteudo = f.read()\n",
    "    print(conteudo)"
   ]
  },
  {
   "cell_type": "markdown",
   "id": "8184fdba",
   "metadata": {},
   "source": [
    "### Exercício 3: Adicionando mais texto\n",
    "\n",
    "Adicione a seguinte frase em uma nova linha do mesmo arquivo: \"Agora estou aprendendo a manipular arquivos!\""
   ]
  },
  {
   "cell_type": "code",
   "execution_count": 36,
   "id": "723d1e8d",
   "metadata": {},
   "outputs": [],
   "source": [
    "with open('meu_arquivo.txt', 'a') as f:\n",
    "    f.write(\"Agora estou aprendendo a manipular arquivos!\\n\")"
   ]
  },
  {
   "cell_type": "markdown",
   "id": "82c4eb19",
   "metadata": {},
   "source": [
    "### Exercício 4: Contando linhas\n",
    "\n",
    "Crie um programa que conta quantas linhas tem o arquivo meu_arquivo.txt e mostra o resultado."
   ]
  },
  {
   "cell_type": "code",
   "execution_count": 37,
   "id": "fd757b5e",
   "metadata": {},
   "outputs": [
    {
     "name": "stdout",
     "output_type": "stream",
     "text": [
      "2\n"
     ]
    }
   ],
   "source": [
    "with open('meu_arquivo.txt', 'r') as f:\n",
    "    conteudo = f.readlines()\n",
    "    print(len(conteudo))"
   ]
  },
  {
   "cell_type": "markdown",
   "id": "6bc0b78f",
   "metadata": {},
   "source": [
    "### Exercício 5: Lista de compras\n",
    "\n",
    "Crie um arquivo chamado compras.txt e escreva nele, cada um em uma linha, os seguintes itens: \"Maçã\", \"Banana\", \"Leite\", \"Pão\"."
   ]
  },
  {
   "cell_type": "code",
   "execution_count": 38,
   "id": "97bb5660",
   "metadata": {},
   "outputs": [],
   "source": [
    "with open('compras.txt', 'w', encoding='utf-8') as f:\n",
    "    f.write(\"Maça\\n\")\n",
    "    f.write(\"Banana\\n\")\n",
    "    f.write(\"Leite\\n\")\n",
    "    f.write(\"Pão\\n\")"
   ]
  },
  {
   "cell_type": "markdown",
   "id": "71cf0898",
   "metadata": {},
   "source": [
    "### Exercício 6: Lendo linhas específicas\n",
    "\n",
    "\n",
    "Leia o arquivo compras.txt e mostre apenas o segundo item da lista (Banana)."
   ]
  },
  {
   "cell_type": "code",
   "execution_count": 39,
   "id": "6d705e94",
   "metadata": {},
   "outputs": [
    {
     "name": "stdout",
     "output_type": "stream",
     "text": [
      "Banana\n",
      "\n"
     ]
    }
   ],
   "source": [
    "with open('compras.txt', 'r', encoding= 'utf-8') as f:\n",
    "    frutas = f.readlines()\n",
    "    print(frutas[1])"
   ]
  },
  {
   "cell_type": "markdown",
   "id": "bc372146",
   "metadata": {},
   "source": [
    "### Exercício 7: Adicionando itens\n",
    "\n",
    "Peça ao usuário para digitar um novo item e adicione-o ao final da lista no arquivo compras.txt."
   ]
  },
  {
   "cell_type": "code",
   "execution_count": 40,
   "id": "a6e7617c",
   "metadata": {},
   "outputs": [],
   "source": [
    "nova_fruta = input(\"Digite uma fruta\")\n",
    "\n",
    "with open('compras.txt','a', encoding='utf-8') as f:\n",
    "    f.write(nova_fruta)"
   ]
  },
  {
   "cell_type": "markdown",
   "id": "b434b909",
   "metadata": {},
   "source": [
    "### Exercício 8: Copiando arquivos\n",
    "\n",
    "Crie um programa que copia todo o conteúdo de meu_arquivo.txt para um novo arquivo chamado copia.txt."
   ]
  },
  {
   "cell_type": "code",
   "execution_count": 70,
   "id": "3aab9832",
   "metadata": {},
   "outputs": [
    {
     "name": "stdout",
     "output_type": "stream",
     "text": [
      "Estou criando esse arquivo de texto em Python!\n",
      "Agora estou aprendendo a manipular arquivos! \n"
     ]
    }
   ],
   "source": [
    "with open('meu_arquivo.txt','r', encoding='utf-8') as f:\n",
    "    copia=conteudo\n",
    "    print(copia)"
   ]
  },
  {
   "cell_type": "code",
   "execution_count": 71,
   "id": "306ea7dc",
   "metadata": {},
   "outputs": [
    {
     "name": "stdout",
     "output_type": "stream",
     "text": [
      "Estou criando esse arquivo de texto em Python!\n",
      "Agora estou aprendendo a manipular arquivos! \n"
     ]
    }
   ],
   "source": [
    "with open('copia.txt','w', encoding='utf-8') as f:\n",
    "    f.write(copia)\n",
    "    print(copia)"
   ]
  },
  {
   "cell_type": "markdown",
   "id": "b24e8386",
   "metadata": {},
   "source": [
    "### Exercício 9: Contando palavras\n",
    "\n",
    "Crie um programa que conta quantas palavras tem no arquivo meu_arquivo.txt (considere que as palavras são separadas por espaços)."
   ]
  },
  {
   "cell_type": "code",
   "execution_count": 69,
   "id": "896d7462",
   "metadata": {},
   "outputs": [
    {
     "name": "stdout",
     "output_type": "stream",
     "text": [
      "92\n"
     ]
    }
   ],
   "source": [
    "with open('meu_arquivo.txt', 'r' , encoding='utf-8') as f:\n",
    "    conteudo = f.read()\n",
    "    print(len(conteudo))"
   ]
  },
  {
   "cell_type": "markdown",
   "id": "3bbe37c9",
   "metadata": {},
   "source": [
    "### Exercício 10: Juntando arquivos\n",
    "\n",
    "\n",
    "Crie um programa que lê o conteúdo de meu_arquivo.txt e compras.txt e cria um novo arquivo chamado juntado.txt com o conteúdo dos dois arquivos, um após o outro."
   ]
  },
  {
   "cell_type": "code",
   "execution_count": 72,
   "id": "5e2156ba",
   "metadata": {},
   "outputs": [
    {
     "name": "stdout",
     "output_type": "stream",
     "text": [
      "Estou criando esse arquivo de texto em Python!\n",
      "Agora estou aprendendo a manipular arquivos! \n"
     ]
    }
   ],
   "source": [
    "with open('meu_arquivo.txt', 'r', encoding='utf-8') as f:\n",
    "    conteudo= f.read()\n",
    "    print(conteudo)"
   ]
  },
  {
   "cell_type": "code",
   "execution_count": 73,
   "id": "e9c0fe71",
   "metadata": {},
   "outputs": [
    {
     "name": "stdout",
     "output_type": "stream",
     "text": [
      "Maça\n",
      "Banana\n",
      "Leite\n",
      "Pão\n",
      "abacaxi\n"
     ]
    }
   ],
   "source": [
    "with open('compras.txt', 'r', encoding='utf-8') as f:\n",
    "    frutas = f.read()\n",
    "    print(frutas)"
   ]
  },
  {
   "cell_type": "code",
   "execution_count": 74,
   "id": "6ca0cfda",
   "metadata": {},
   "outputs": [],
   "source": [
    "with open('juntado.txt', 'w', encoding='utf-8') as f:\n",
    "    f.write(conteudo)\n",
    "    f.write(frutas)"
   ]
  },
  {
   "cell_type": "code",
   "execution_count": null,
   "id": "c932924e",
   "metadata": {},
   "outputs": [],
   "source": []
  }
 ],
 "metadata": {
  "kernelspec": {
   "display_name": "Python 3",
   "language": "python",
   "name": "python3"
  },
  "language_info": {
   "codemirror_mode": {
    "name": "ipython",
    "version": 3
   },
   "file_extension": ".py",
   "mimetype": "text/x-python",
   "name": "python",
   "nbconvert_exporter": "python",
   "pygments_lexer": "ipython3",
   "version": "3.13.2"
  }
 },
 "nbformat": 4,
 "nbformat_minor": 5
}
