{
 "cells": [
  {
   "cell_type": "markdown",
   "id": "633160a3",
   "metadata": {},
   "source": [
    "### 📝Lista de Exercícios: Condicionais IF/ELSE"
   ]
  },
  {
   "cell_type": "markdown",
   "id": "605d2a7e",
   "metadata": {},
   "source": [
    "Exercício 1 - Maioridade 🔞\n",
    "\n",
    "Crie um programa que pergunta a idade do usuário e diz se ele é maior ou menor de idade."
   ]
  },
  {
   "cell_type": "code",
   "execution_count": 4,
   "id": "93ea230f",
   "metadata": {},
   "outputs": [
    {
     "name": "stdout",
     "output_type": "stream",
     "text": [
      "Maior de idade\n"
     ]
    }
   ],
   "source": [
    "idade = int(input(\"Quantos anos você tem? \"))\n",
    "\n",
    "\n",
    "# Complete o código aqui\n",
    "\n",
    "if idade <= 17:\n",
    "    print(\"Menor de idade\")\n",
    "    \n",
    "elif idade >= 18:\n",
    "    print(\"Maior de idade\")\n"
   ]
  },
  {
   "cell_type": "markdown",
   "id": "6e9528f5",
   "metadata": {},
   "source": [
    "Exercício 2 - Aprovação na Prova 🧠\n",
    "\n",
    "Faça um programa que pergunte a nota de um aluno (0 a 10) e diz se ele foi aprovado(nota >= 5) ou reprovado (nota <5)."
   ]
  },
  {
   "cell_type": "code",
   "execution_count": 10,
   "id": "4a9f8f8b",
   "metadata": {},
   "outputs": [
    {
     "name": "stdout",
     "output_type": "stream",
     "text": [
      "Você foi aprovado, sua nota é 10.0\n"
     ]
    }
   ],
   "source": [
    "nota = float(input(\"Informe a sua nota de (0 a 10)\"))\n",
    "\n",
    "# Complete o código aqui\n",
    "\n",
    "if nota >=5:\n",
    "    print(f\"Você foi aprovado, sua nota é {nota}\")\n",
    "    \n",
    "elif nota <5:\n",
    "    print(f\"Você está reprovado, sua nota é {nota}\")"
   ]
  },
  {
   "cell_type": "markdown",
   "id": "9f8e9b92",
   "metadata": {},
   "source": [
    "Exercicio 3 - CNH 🚘🚙\n",
    "\n",
    " 1º - Peça ao usuário que digite a idade dele.\n",
    "\n",
    " 2º - Peça pra ele dizer se foi aprovado ou reprovado no curso de cnh.\n",
    "\n",
    " 3º - Use if e else para verificar se ele tem 18 anos ou mais e se foi aprovado.\n",
    "\n",
    " 4º - Se as condições do passo 3 estiverem certas, print(\"pode dirigir\").\n",
    " \n",
    " 5º - Se não print(\"vai andar a pé\")"
   ]
  },
  {
   "cell_type": "code",
   "execution_count": null,
   "id": "bee9f043",
   "metadata": {},
   "outputs": [
    {
     "name": "stdout",
     "output_type": "stream",
     "text": [
      "Vai andar a pé\n"
     ]
    }
   ],
   "source": [
    "### Seu código aqui\n",
    "idade = int(input(\"Digite sua idade:\"))\n",
    "cnh = input(\"Aprovado ou Reprovado?\")\n",
    "\n",
    "\n",
    "\n",
    "if idade >= 18 and cnh == \"Aprovado\":\n",
    "    print(\"Você pode dirigir\")\n",
    "    \n",
    "else:\n",
    "    print(\"Vai andar a pé\")\n"
   ]
  },
  {
   "cell_type": "markdown",
   "id": "e9c60d12",
   "metadata": {},
   "source": [
    "Exercício 4 - Calculadora de Desconto. 💵 🤑\n",
    "\n",
    "Uma loja dá 10% de desconto para compras acima de R$ 100,00. Faça um programa que:\n",
    "\n",
    "1º - Pergunta o valor da compra.\n",
    "\n",
    "2º - Calcula o valor final com desconto (se aplicável).\n",
    "\n",
    "3º - Mostra o valor a pagar."
   ]
  },
  {
   "cell_type": "code",
   "execution_count": 49,
   "id": "5edc8855",
   "metadata": {},
   "outputs": [
    {
     "name": "stdout",
     "output_type": "stream",
     "text": [
      "o total a pagar é: 90.009\n"
     ]
    }
   ],
   "source": [
    "### Seu código aqui\n",
    "valor_compra = float(input(\"DIgite o valor da compra:\"))\n",
    "desconto = valor_compra*0.10\n",
    "valor_final = valor_compra - desconto\n",
    "\n",
    "\n",
    "\n",
    "if valor_compra > 100.00:\n",
    "    print(f\"o total a pagar é: {valor_final}\")\n",
    "    \n",
    "else:\n",
    "    print(f\"compra sem desconto, o total a pagar é: {valor_compra}\")\n",
    "    \n",
    "    \n"
   ]
  },
  {
   "cell_type": "markdown",
   "id": "ec96b43c",
   "metadata": {},
   "source": [
    "Exercício 5 - Classificação de Notas 🧑‍🎓\n",
    "\n",
    "Pergunte a nota de um aluno e dependendo da nota que ele informar, o classifique de acordo com as regras abaixo:\n",
    "\n",
    "Classifique a nota do aluno:\n",
    "\n",
    "- 9 até 10: \"Excelente\"\n",
    "\n",
    "- 7 até 8.9: \"Bom\"\n",
    "\n",
    "- 5 até 6.9: \"Regular\"\n",
    "\n",
    "- 0 até 4.9: \"Reprovado\"\n",
    "\n",
    "mostre para o aluno a classificação dele através de um print, exemplo print(\"Excelente\")."
   ]
  },
  {
   "cell_type": "code",
   "execution_count": null,
   "id": "465c6812",
   "metadata": {},
   "outputs": [
    {
     "name": "stdout",
     "output_type": "stream",
     "text": [
      "Excelente\n"
     ]
    }
   ],
   "source": [
    "nota = float(input(\"Qual a sua nota ?:\"))\n",
    "\n",
    "if nota >= 9 and nota <=10:\n",
    "    print(\"Excelente\")\n",
    "    \n",
    "elif nota >=7 and nota <=8.9:\n",
    "    print(\"Bom\")\n",
    "    \n",
    "elif nota >=5 and nota <=6.9:\n",
    "    print(\"Regular\")\n",
    "    \n",
    "elif nota >= 0.0 and nota <=4.9:\n",
    "    print(\"Reprovado\")\n",
    "\n",
    "else:\n",
    "    print(\"Nota não identificada!!\")\n"
   ]
  },
  {
   "cell_type": "markdown",
   "id": "251b0fa7",
   "metadata": {},
   "source": [
    "Exercício 6 - Acesso ao Sistema 🔑\n",
    "\n",
    "Crie um login simples:\n",
    "\n",
    "- usuario_correto = \"admin\"\n",
    "\n",
    "- senha_correta = \"1234\"\n",
    "\n",
    "**Peça para o usuário digitar primeiro o login e depois a senha, caso login e senha estejam corretos programa deve mostrar \"Acesso permitido\" se não \"Acesso negado\"**\n"
   ]
  },
  {
   "cell_type": "code",
   "execution_count": 69,
   "id": "7fcf16db",
   "metadata": {},
   "outputs": [
    {
     "name": "stdout",
     "output_type": "stream",
     "text": [
      "Acesso permitido!\n"
     ]
    }
   ],
   "source": [
    "usuario_correto = \"admin\"\n",
    "senha_correta = 1234\n",
    "\n",
    "usuario = input(\"digite o nome de usuario:\")\n",
    "senha = int(input(\"digite a senha correta:\"))\n",
    "\n",
    "if usuario == usuario_correto and senha == senha_correta:\n",
    "    print(\"Acesso permitido!\")\n",
    "    \n",
    "else:\n",
    "    print(\"Acesso negado!\")\n",
    "    \n",
    "\n",
    "\n"
   ]
  },
  {
   "cell_type": "markdown",
   "id": "46c27406",
   "metadata": {},
   "source": [
    "Exercício 7 - Maior Número 📉\n",
    "\n",
    "Peça 3 números e mostre qual é o maior deles."
   ]
  },
  {
   "cell_type": "code",
   "execution_count": 77,
   "id": "916439ff",
   "metadata": {},
   "outputs": [
    {
     "name": "stdout",
     "output_type": "stream",
     "text": [
      "O maior número é 1.0\n"
     ]
    }
   ],
   "source": [
    "\n",
    "numero1 = float(input(\"digite um numero\"))\n",
    "\n",
    "numero2 = float(input(\"digite um numero\"))\n",
    "\n",
    "numero3 = float(input(\"digite um numero\"))\n",
    "\n",
    "# Encontrando o maior número\n",
    "maior = numero1\n",
    "if numero2 > maior:\n",
    "    maior = numero2\n",
    "if numero3 > maior:\n",
    "    maior = numero3\n",
    "\n",
    "# Mostrando o resultado\n",
    "print(f\"O maior número é {maior}\")"
   ]
  },
  {
   "cell_type": "markdown",
   "id": "984fe0fe",
   "metadata": {},
   "source": [
    "Exercício 8 - Dia da Semana\n",
    "Peça um número de 1 a 7 e mostre o dia da semana correspondente: 📅\n",
    "\n",
    "- 1: Domingo\n",
    "\n",
    "- 2: Segunda\n",
    "\n",
    "- ... até 7: Sábado"
   ]
  },
  {
   "cell_type": "code",
   "execution_count": 81,
   "id": "f34c6fbf",
   "metadata": {},
   "outputs": [
    {
     "name": "stdout",
     "output_type": "stream",
     "text": [
      "Domingo\n"
     ]
    }
   ],
   "source": [
    "numero = int(input(\"Digite um número de 1 até 7\"))\n",
    "\n",
    "if numero == 1:\n",
    "    print(\"Domingo\")\n",
    "    \n",
    "elif numero == 2:\n",
    "    print(\"Segunda\")\n",
    "    \n",
    "elif numero == 3:\n",
    "    print(\"Terça\")\n",
    "    \n",
    "elif numero == 4:\n",
    "    print(\"Quarta\")\n",
    "    \n",
    "elif numero == 5:\n",
    "    print(\"Quinta\")\n",
    "    \n",
    "elif numero == 6:\n",
    "    print(\"Sexta\")\n",
    "    \n",
    "elif numero == 7:\n",
    "    print(\"Sábado\")\n",
    "    \n",
    "else:\n",
    "    print(\"Não identificado\")\n",
    "    \n"
   ]
  },
  {
   "cell_type": "markdown",
   "id": "f1f760b7",
   "metadata": {},
   "source": [
    "Exercício 9 - Calculadora Simples 📏📐\n",
    "\n",
    "- Faça uma calculadora que:\n",
    "\n",
    "- Pede dois números\n",
    "\n",
    "- Pede a operação (+, -, *, /)\n",
    "\n",
    "- Dependendo da operação mostre o resultado.\n",
    "\n"
   ]
  },
  {
   "cell_type": "code",
   "execution_count": 85,
   "id": "95c6ce03",
   "metadata": {},
   "outputs": [
    {
     "name": "stdout",
     "output_type": "stream",
     "text": [
      " o resultado de 10 - 10 = 0\n"
     ]
    }
   ],
   "source": [
    "numero_1 = int (input(\"me fale um numero: \"))\n",
    "numero_2 = int (input(\"me fale um numero: \"))\n",
    "operacao = input(\"digite o tipo de conta que voce quer fazer: \")\n",
    "\n",
    "if operacao == \"somar\" or operacao == \"+\":\n",
    "    soma = numero_1 + numero_2\n",
    "    print(f\" o resultado de {numero_1} + {numero_2} = {soma}\")\n",
    "    \n",
    "elif operacao == \"subtrair\" or operacao == \"-\":\n",
    "    soma = numero_1 - numero_2\n",
    "    print(f\" o resultado de {numero_1} - {numero_2} = {soma}\")\n",
    "    \n",
    "elif operacao == \"multiplicar\" or operacao == \"*\":\n",
    "    soma = numero_1 * numero_2\n",
    "    print(f\" o resultado de {numero_1} * {numero_2} = {soma}\")\n",
    "    \n",
    "elif operacao == \"dividir\" or operacao == \"/\":\n",
    "    soma = numero_1 / numero_2\n",
    "    print(f\" o resultado de {numero_1} / {numero_2} = {soma}\")\n",
    "    \n",
    "else:\n",
    "    print(\"Error404!\")"
   ]
  },
  {
   "cell_type": "markdown",
   "id": "f39f6b73",
   "metadata": {},
   "source": [
    "Exercício 10 - Sistema de Multas 🚙🚘🧾\n",
    "\n",
    "\n",
    "- Velocidade máxima: 80 km/h 🚫\n",
    "\n",
    "- Até 80: \"Sem multa\"\n",
    "\n",
    "- 81-100: \"Multa leve\"\n",
    "\n",
    "- Acima de 100: \"Multa grave\""
   ]
  },
  {
   "cell_type": "code",
   "execution_count": null,
   "id": "20fdc977",
   "metadata": {},
   "outputs": [
    {
     "name": "stdout",
     "output_type": "stream",
     "text": [
      "multa grave\n"
     ]
    }
   ],
   "source": [
    "velocidade = float(input(\"digite sua velocidade\"))\n",
    "\n",
    "velocidade_maxima = 80\n",
    "\n",
    "if velocidade <= velocidade_maxima:\n",
    "    print(\"sem multa\")\n",
    "    \n",
    "elif velocidade > velocidade_maxima and velocidade <=100:\n",
    "    print(\"Multa leve\")\n",
    "    \n",
    "else:\n",
    "    print(\"multa grave\")"
   ]
  }
 ],
 "metadata": {
  "kernelspec": {
   "display_name": "Python 3",
   "language": "python",
   "name": "python3"
  },
  "language_info": {
   "codemirror_mode": {
    "name": "ipython",
    "version": 3
   },
   "file_extension": ".py",
   "mimetype": "text/x-python",
   "name": "python",
   "nbconvert_exporter": "python",
   "pygments_lexer": "ipython3",
   "version": "3.13.2"
  }
 },
 "nbformat": 4,
 "nbformat_minor": 5
}
