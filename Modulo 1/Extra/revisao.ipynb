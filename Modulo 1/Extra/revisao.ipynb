{
 "cells": [
  {
   "cell_type": "markdown",
   "id": "a318c7b6",
   "metadata": {},
   "source": [
    "### IDADE"
   ]
  },
  {
   "cell_type": "code",
   "execution_count": 28,
   "id": "bd72f822",
   "metadata": {},
   "outputs": [
    {
     "name": "stdout",
     "output_type": "stream",
     "text": [
      "adulto\n"
     ]
    }
   ],
   "source": [
    "idade= int(input(\"Qual sua idade?\"))\n",
    "\n",
    "if idade <18:\n",
    "    print(\"menor de idade\")\n",
    "    \n",
    "elif idade ==18:\n",
    "    print(\"maior de idade\")\n",
    "    \n",
    "elif idade >=18 and idade <=60:\n",
    "    print(\"adulto\")\n",
    "    \n",
    "else:\n",
    "\n",
    "    print(\"idoso\")\n",
    "    "
   ]
  },
  {
   "cell_type": "markdown",
   "id": "ddcbab8f",
   "metadata": {},
   "source": [
    "### CALCULA MÉDIA"
   ]
  },
  {
   "cell_type": "code",
   "execution_count": 49,
   "id": "ba0369a7",
   "metadata": {},
   "outputs": [
    {
     "name": "stdout",
     "output_type": "stream",
     "text": [
      "Sua média é 3.0\n",
      "Reprovado\n"
     ]
    }
   ],
   "source": [
    "nota1 = float(input(\"Digite suas notas:\"))\n",
    "nota2 = float(input(\"Digite suas notas:\"))\n",
    "nota3 = float(input(\"Digite suas notas:\"))\n",
    "\n",
    "media = (nota1+nota2+nota3)/3\n",
    "print(f\"Sua média é {media}\")\n",
    "\n",
    "\n",
    "if media >=6:\n",
    "    print(\"Aprovado\")\n",
    "    \n",
    "elif media >=4 and media <6:\n",
    "    print(\"Recuperação\")\n",
    "    \n",
    "elif media <=3:\n",
    "    print(\"Reprovado\")\n",
    "    \n",
    "else:\n",
    "    print(\"Nota fora de cogitação\")"
   ]
  },
  {
   "cell_type": "markdown",
   "id": "c25e2bcc",
   "metadata": {},
   "source": [
    "### CALCULADORA"
   ]
  },
  {
   "cell_type": "code",
   "execution_count": null,
   "id": "1033a90a",
   "metadata": {},
   "outputs": [
    {
     "name": "stdout",
     "output_type": "stream",
     "text": [
      "operação invalida\n"
     ]
    }
   ],
   "source": [
    "numero_1 = int (input(\"me fale um numero: \"))\n",
    "numero_2 = int (input(\"me fale um numero: \"))\n",
    "operacao = input(\"digite o tipo de conta que voce quer fazer: \")\n",
    "\n",
    "if operacao == \"somar\" or operacao == \"+\":\n",
    "    soma = numero_1 + numero_2\n",
    "    print(f\" o resultado de {numero_1} + {numero_2} = {soma}\")\n",
    "    \n",
    "elif operacao == \"subtrair\" or operacao == \"-\":\n",
    "    soma = numero_1 - numero_2\n",
    "    print(f\" o resultado de {numero_1} - {numero_2} = {soma}\")\n",
    "    \n",
    "elif operacao == \"multiplicar\" or operacao == \"*\":\n",
    "    soma = numero_1 * numero_2\n",
    "    print(f\" o resultado de {numero_1} * {numero_2} = {soma}\")\n",
    "    \n",
    "elif operacao == \"dividir\" or operacao == \"/\":\n",
    "    soma = numero_1 / numero_2\n",
    "    print(f\" o resultado de {numero_1} / {numero_2} = {soma}\")\n",
    "    \n",
    "else:\n",
    "    print(\"operação invalida\")\n",
    "    \n",
    "    \n",
    "    \n",
    "    \n",
    "    \n",
    "    \n",
    "    \n",
    "    \n",
    "    \n",
    "    \n",
    "    "
   ]
  },
  {
   "cell_type": "markdown",
   "id": "67018f55",
   "metadata": {},
   "source": [
    "### "
   ]
  }
 ],
 "metadata": {
  "kernelspec": {
   "display_name": "Python 3",
   "language": "python",
   "name": "python3"
  },
  "language_info": {
   "codemirror_mode": {
    "name": "ipython",
    "version": 3
   },
   "file_extension": ".py",
   "mimetype": "text/x-python",
   "name": "python",
   "nbconvert_exporter": "python",
   "pygments_lexer": "ipython3",
   "version": "3.13.2"
  }
 },
 "nbformat": 4,
 "nbformat_minor": 5
}
