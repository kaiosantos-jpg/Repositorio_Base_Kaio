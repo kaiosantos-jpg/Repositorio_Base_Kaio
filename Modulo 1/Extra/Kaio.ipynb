{
 "cells": [
  {
   "cell_type": "code",
   "execution_count": 15,
   "metadata": {},
   "outputs": [
    {
     "name": "stdout",
     "output_type": "stream",
     "text": [
      "7.599999999999999\n"
     ]
    }
   ],
   "source": [
    "nota1= float(9.2)\n",
    "nota2= float(5.7)\n",
    "nota3= float(7.9)\n",
    "media=(nota1+nota2+nota3)/3\n",
    "print(media)"
   ]
  },
  {
   "cell_type": "code",
   "execution_count": 6,
   "metadata": {},
   "outputs": [
    {
     "name": "stdout",
     "output_type": "stream",
     "text": [
      "8.0\n"
     ]
    }
   ],
   "source": [
    "nota1= 6\n",
    "nota2= 8\n",
    "nota3= 10\n",
    "media=(nota1+nota2+nota3)/3\n",
    "print(media)"
   ]
  },
  {
   "cell_type": "code",
   "execution_count": 1,
   "metadata": {},
   "outputs": [
    {
     "name": "stdout",
     "output_type": "stream",
     "text": [
      "A sua média é :4.6000000000000005\n"
     ]
    }
   ],
   "source": [
    "nota1= float(input(\" Digite a Sua Nota!!!\"))\n",
    "nota2= float(input(\" Digite a Sua Segunda Nota!!!\"))\n",
    "nota3= float(input(\" Digite a Sua Terceira Nota!!!\"))\n",
    "media=(nota1+nota2+nota3)/3\n",
    "print(f\"A sua média é :{media}\")"
   ]
  },
  {
   "cell_type": "code",
   "execution_count": 7,
   "metadata": {},
   "outputs": [
    {
     "name": "stdout",
     "output_type": "stream",
     "text": [
      "5.0\n"
     ]
    }
   ],
   "source": [
    "numero=float(input(\"Informe um número!!!\"))\n",
    "print(numero)"
   ]
  },
  {
   "cell_type": "code",
   "execution_count": 8,
   "metadata": {},
   "outputs": [
    {
     "name": "stdout",
     "output_type": "stream",
     "text": [
      "O seu carro dos sonhos é :fusca\n",
      "O preço do carro é :20000 R$\n",
      "O ano do carro é :1971\n"
     ]
    }
   ],
   "source": [
    "nome_carro=(input(\"Informe o nome do seu carro dos sonhos:!!!\"))\n",
    "print(f\"O seu carro dos sonhos é :{nome_carro}\")\n",
    "preço=(input(\"Informe o nome do seu carro dos sonhos:!!!\"))\n",
    "print(f\"O preço do carro é :{preço}\")\n",
    "ano=(input(\"Informe o nome do seu carro dos sonhos:!!!\"))\n",
    "print(f\"O ano do carro é :{ano}\")\n",
    "\n",
    "# faça a mesma coisa para o preço\n",
    "# faça o mesmo para o ano"
   ]
  },
  {
   "cell_type": "code",
   "execution_count": 9,
   "metadata": {},
   "outputs": [
    {
     "name": "stdout",
     "output_type": "stream",
     "text": [
      "O meu nome é:Kaio Eduardo dos Santos\n",
      "A minha idade é:17 anos\n"
     ]
    }
   ],
   "source": [
    "nome=input(\"Qual é o seu nome?:\")\n",
    "print(f\"O meu nome é:{nome}\")\n",
    "idade=input(\"Qual é a sua idade? :{nome}\")\n",
    "print(f\"A minha idade é:{idade}\")"
   ]
  },
  {
   "cell_type": "code",
   "execution_count": 9,
   "metadata": {},
   "outputs": [
    {
     "name": "stdout",
     "output_type": "stream",
     "text": [
      "17\n"
     ]
    }
   ],
   "source": [
    "print(2025-2008)"
   ]
  },
  {
   "cell_type": "code",
   "execution_count": 15,
   "metadata": {},
   "outputs": [
    {
     "name": "stdout",
     "output_type": "stream",
     "text": [
      "O ano que estamos é :2025\n",
      "O ano que eu nasci é :2008\n",
      "a minha idade é :17\n"
     ]
    }
   ],
   "source": [
    "ano_atual= int(input(\"Qual ano estamos? :\"))\n",
    "print(f\"O ano que estamos é :{ano_atual}\")\n",
    "ano_nasci= int(input(\"Em que ano nasci?  :\"))\n",
    "print(f\"O ano que eu nasci é :{ano_nasci}\")\n",
    "idade = ano_atual-ano_nasci\n",
    "print(f\"a minha idade é :{idade}\")\n"
   ]
  },
  {
   "cell_type": "markdown",
   "metadata": {},
   "source": [
    "### Calcule média"
   ]
  },
  {
   "cell_type": "code",
   "execution_count": null,
   "metadata": {},
   "outputs": [
    {
     "name": "stdout",
     "output_type": "stream",
     "text": [
      "6.3\n",
      "6.4\n",
      "8.3\n",
      "5.8\n",
      "3.8\n",
      "7.8\n",
      "7.0\n",
      "7.0\n",
      "5.0\n",
      "5.8\n",
      "6.8\n",
      "6.5\n",
      "2.8\n",
      "6.3\n",
      "6.114285714285714\n"
     ]
    }
   ],
   "source": [
    "numero_1= float (input(\"sua nota é: \"))\n",
    "print(numero_1)\n",
    "numero_2= float (input(\"sua nota é: \"))\n",
    "print(numero_2)\n",
    "numero_3= float (input(\"sua nota é: \"))\n",
    "print(numero_3)\n",
    "numero_4= float (input(\"sua nota é: \"))\n",
    "print(numero_4)\n",
    "numero_5= float (input(\"sua nota é: \"))\n",
    "print(numero_5)\n",
    "numero_6= float (input(\"sua nota é: \"))\n",
    "print(numero_6)\n",
    "numero_7= float (input(\"sua nota é: \"))\n",
    "print(numero_7)\n",
    "numero_8= float (input(\"sua nota é: \"))\n",
    "print(numero_8)\n",
    "numero_9= float (input(\"sua nota é: \"))\n",
    "print(numero_9)\n",
    "numero_10= float (input(\"sua nota é: \"))\n",
    "print(numero_10)\n",
    "numero_11= float (input(\"sua nota é: \"))\n",
    "print(numero_11)\n",
    "numero_12= float (input(\"sua nota é: \"))\n",
    "print(numero_12)\n",
    "numero_13= float (input(\"sua nota é: \"))\n",
    "print(numero_13)\n",
    "numero_14= float (input(\"sua nota é: \"))\n",
    "print(numero_14)\n",
    "media =(numero_1+numero_2+numero_3+numero_4+numero_5+numero_6+numero_7+numero_8+numero_9+numero_10+numero_11+numero_12+numero_13+numero_14)/14\n",
    "print(f\"a sua média é:{media}\")\n"
   ]
  },
  {
   "cell_type": "markdown",
   "metadata": {},
   "source": [
    "### Quero te conhecer melhor"
   ]
  },
  {
   "cell_type": "code",
   "execution_count": 17,
   "metadata": {},
   "outputs": [
    {
     "name": "stdout",
     "output_type": "stream",
     "text": [
      "adorei te conhecer, seu nome é: Kaio Eduardo dos Santos\n",
      "adorei te conhecer, a sua musica favorita é: A morte do autotune- matue\n",
      "adorei te conhecer, seu hobby é: Apostar\n",
      "  \n",
      "Adorei te conhecer, até logo!\n"
     ]
    }
   ],
   "source": [
    "nome =input(\"digite meu nome: \")\n",
    "print(f\"adorei te conhecer, seu nome é: {nome}\")\n",
    "musica =input(\"digite minha musica favorita: \")\n",
    "print(f\"adorei te conhecer, a sua musica favorita é: {musica}\")\n",
    "hobby =input(\"digite o meu hobby: \")\n",
    "print(f\"adorei te conhecer, seu hobby é: {hobby}\")\n",
    "print(f\"  \")\n",
    "print(f\"Adorei te conhecer, até logo!\")"
   ]
  },
  {
   "cell_type": "markdown",
   "metadata": {},
   "source": [
    "### IF E ELSE"
   ]
  },
  {
   "cell_type": "code",
   "execution_count": 11,
   "metadata": {},
   "outputs": [
    {
     "name": "stdout",
     "output_type": "stream",
     "text": [
      "Você foi aprovado!\n"
     ]
    }
   ],
   "source": [
    "media = float (input(\"digite a média :\"))\n",
    "\n",
    "if media >=5:\n",
    "    print(\"Você foi aprovado!\")\n",
    "else:\n",
    "    print(\"Você foi reprovado!\")"
   ]
  },
  {
   "cell_type": "markdown",
   "metadata": {},
   "source": [
    "### CALCULE A MÉDIA DE 3 NOTAS"
   ]
  },
  {
   "cell_type": "code",
   "execution_count": 13,
   "metadata": {},
   "outputs": [
    {
     "name": "stdout",
     "output_type": "stream",
     "text": [
      "A sua média é :7.5\n",
      "Você foi aprovado!\n"
     ]
    }
   ],
   "source": [
    "nota1= float(input(\" Digite a Sua Nota!!!\"))\n",
    "nota2= float(input(\" Digite a Sua Segunda Nota!!!\"))\n",
    "nota3= float(input(\" Digite a Sua Terceira Nota!!!\"))\n",
    "media=(nota1+nota2+nota3)/3\n",
    "print(f\"A sua média é :{media}\")\n",
    "\n",
    "if media >=5:\n",
    "    print(\"Você foi aprovado!\")\n",
    "else:\n",
    "    print(\"Você foi reprovado!\")"
   ]
  },
  {
   "cell_type": "markdown",
   "metadata": {},
   "source": [
    "### CONTATINHO"
   ]
  },
  {
   "cell_type": "code",
   "execution_count": 4,
   "metadata": {},
   "outputs": [
    {
     "name": "stdout",
     "output_type": "stream",
     "text": [
      "cola em goma depois\n"
     ]
    }
   ],
   "source": [
    "nome_contatinho = (input(\"fala seu nome: \"))\n",
    "\n",
    "numero_telefone = (input(\"passa seu numero :\"))\n",
    "\n",
    "crush = \"cristiano ronaldo\"\n",
    "\n",
    "if nome_contatinho == crush:\n",
    "    print(\"cola em goma depois\")\n",
    "else:\n",
    "    print(\"vai se lascar\")"
   ]
  },
  {
   "cell_type": "code",
   "execution_count": 1,
   "metadata": {},
   "outputs": [
    {
     "name": "stdout",
     "output_type": "stream",
     "text": [
      "Não pode dirigir\n"
     ]
    }
   ],
   "source": [
    "#1 -PEÇA AO USUÁRIO QUE DIGITE A IDADE DELE\n",
    "idade = int(input(\"Informe sua idade\"))\n",
    "idade_minima = 18\n",
    "\n",
    "#2 -PEÇA PRA ELE DIZER SE FOI APROVADO OU REPROVADO NO CURSO DE CNH\n",
    "resultado_cnh = input(\"informe se você foi aprovado ou reprovado no cutso:\").lower()\n",
    "resultado_esperado = \"aprovado\"\n",
    "\n",
    "#3 -USE IF E ELSE PARA VERIFICAR SE ELE TEM 18 ANOS OU MAIS E FOI APROVADO\n",
    "if idade>= idade_minima and resultado_cnh == resultado_esperado:\n",
    "    print(\"Pode dirigir\")\n",
    "else:\n",
    "    print(\"Não pode dirigir\")"
   ]
  },
  {
   "cell_type": "markdown",
   "metadata": {},
   "source": [
    "### FÁBRICA DE PROGRAMADORES"
   ]
  },
  {
   "cell_type": "code",
   "execution_count": null,
   "metadata": {},
   "outputs": [
    {
     "name": "stdout",
     "output_type": "stream",
     "text": [
      "Bem vindo, bora fazer programas\n"
     ]
    }
   ],
   "source": [
    "série = int(input(\"qaul ano você esta na escola\"))\n",
    "série_minima = 3\n",
    "\n",
    "escola = input(\"você estuda em um coleéio municipal de santana de parnaiba?\").lower()\n",
    "escola_esperada = \"sim\"\n",
    "\n",
    "if série == série_minima and escola == escola_esperada:\n",
    "    print(\"Bem vindo, bora fazer programas\")\n",
    "else:\n",
    "    print(\"infelizmente nao vai poder fazer o curso\")"
   ]
  },
  {
   "cell_type": "markdown",
   "metadata": {},
   "source": [
    "### MELHOR MUSICA DO MUNDO"
   ]
  },
  {
   "cell_type": "code",
   "execution_count": null,
   "metadata": {},
   "outputs": [
    {
     "name": "stdout",
     "output_type": "stream",
     "text": [
      "essa é a pura\n"
     ]
    }
   ],
   "source": [
    "cantor = (input(\"qual é o seu cantor favorito?\")).lower()\n",
    "cantor_esperado = \"matue\" \n",
    "\n",
    "musica = (input(\"qual é a sua musica favorita?\")).lower()\n",
    "musica_esperada = \"a morte do autotune\"\n",
    "\n",
    "if cantor == cantor_esperado and musica == musica_esperada:\n",
    "    print(\"essa é a pura\")\n",
    "else:\n",
    "    print(\"que gosto péssimo pra musica em\")"
   ]
  },
  {
   "cell_type": "markdown",
   "metadata": {},
   "source": [
    "### MEU EMPREGO DOS SONHOS"
   ]
  },
  {
   "cell_type": "code",
   "execution_count": null,
   "metadata": {},
   "outputs": [
    {
     "name": "stdout",
     "output_type": "stream",
     "text": [
      "meu emprego dos sonhos é :t.i.\n",
      "seu sálario dos sonhos é :10000.0\n",
      "o dinheiro que sobrou no mês foi: 4910.360000000001\n",
      "o dinheiro que gastei no mês foi: 5089.639999999999\n"
     ]
    }
   ],
   "source": [
    "emprego = (input(\"diga qual é o seu emprego dos sonhos :\"))\n",
    "print(f\"meu emprego dos sonhos é :{emprego}\")\n",
    "\n",
    "sálario = float (input(\"diga qual é seu sálario dos sonhos :\"))\n",
    "print(f\"seu sálario dos sonhos é :{sálario}\")\n",
    "\n",
    "conta_de_luz = float (300)\n",
    "conta_de_água = float (100)\n",
    "internet = float (200)\n",
    "inss = float (951.64)\n",
    "ipva = float (678)\n",
    "iptu = float (1000)\n",
    "gás = float (110)\n",
    "compra_do_mês = float (750)\n",
    "aplicativos_de_streaming = float (200)\n",
    "vale_trasnporte = float (150)\n",
    "vale_refeição = float (650)\n",
    "\n",
    "despesas = (conta_de_luz+conta_de_água+internet+inss+ipva+iptu+gás+compra_do_mês+aplicativos_de_streaming+vale_trasnporte+vale_refeição)\n",
    "\n",
    "\n",
    "\n",
    "\n",
    "\n",
    "\n",
    "total = (sálario-despesas)\n",
    "print(f\"o dinheiro que sobrou no mês foi: {total}\")\n",
    "print(f\"o dinheiro que gastei no mês foi: {despesas}\")"
   ]
  },
  {
   "cell_type": "markdown",
   "metadata": {},
   "source": [
    "###  CONTATINHO 2 HEHEHE"
   ]
  },
  {
   "cell_type": "code",
   "execution_count": 11,
   "metadata": {},
   "outputs": [
    {
     "name": "stdout",
     "output_type": "stream",
     "text": [
      "cola em goma depois\n"
     ]
    }
   ],
   "source": [
    "nome_contatinho = (input(\"fala seu nome: \"))\n",
    "crush = \"giovanna\"\n",
    "amante= \"matheus bonitão\"\n",
    "amante2 = \"cristiano ronaldo\"\n",
    "\n",
    "if nome_contatinho == crush:\n",
    "    print(\"cola em goma depois\")\n",
    "elif nome_contatinho == amante:\n",
    "    print(\"vamo pro canto bb\")\n",
    "elif nome_contatinho == amante2:\n",
    "    print(\"sai fora rapaz\")\n",
    "    \n",
    "else:\n",
    "    print(\"vai se lascar\")"
   ]
  },
  {
   "cell_type": "markdown",
   "metadata": {},
   "source": [
    "### MEDIDOR DE TEMPERATURA"
   ]
  },
  {
   "cell_type": "code",
   "execution_count": null,
   "metadata": {},
   "outputs": [
    {
     "name": "stdout",
     "output_type": "stream",
     "text": [
      "clima suportavel\n"
     ]
    }
   ],
   "source": [
    "temperatura = int(input(\"me fale a temperatura atual: \"))\n",
    "máxima = 30\n",
    "mínima = 22 \n",
    "\n",
    "if temperatura >=31:\n",
    "    print(\"calor de matar\")\n",
    "    \n",
    "elif temperatura >=22 and temperatura <=30: \n",
    "    print(\"clima suportavel\")\n",
    "    \n",
    "elif temperatura == 0:\n",
    "    print(\"frio de congelar os dentes\")\n",
    "else:\n",
    "    print(\"frio\")\n"
   ]
  },
  {
   "cell_type": "markdown",
   "metadata": {},
   "source": [
    "### CONTROLE DE ESTOQUE"
   ]
  },
  {
   "cell_type": "code",
   "execution_count": null,
   "metadata": {},
   "outputs": [
    {
     "name": "stdout",
     "output_type": "stream",
     "text": [
      "meu produto é: controle de videogame\n",
      "eu tenho: 11\n",
      "o controle de videogame esta normal \n"
     ]
    }
   ],
   "source": [
    "produto = input(\"diga o nome do seu produto\")\n",
    "print(f\"meu produto é: {produto}\")\n",
    "\n",
    "quantidade = int (input(\"diga quantos desse produto voce tem: \"))\n",
    "print(f\"eu tenho: {quantidade}\")\n",
    "\n",
    "if produto == 0:\n",
    "    print (f\"{produto} esta em falta, compre mais imediatamente!\")\n",
    "    \n",
    "elif quantidade <=10:\n",
    "    print(f\"{produto} esta acabando, compre mais para o estoque\")\n",
    "    \n",
    "elif quantidade >=30:\n",
    "    print(f\"{produto} em excesso, nao precisa comprar mais por enquanto\")\n",
    "    \n",
    "else:\n",
    "    print(f\"o estoque de {produto} esta normal \")"
   ]
  },
  {
   "cell_type": "markdown",
   "metadata": {},
   "source": [
    "### CALCULADORA BASICA"
   ]
  },
  {
   "cell_type": "code",
   "execution_count": 18,
   "metadata": {},
   "outputs": [
    {
     "name": "stdout",
     "output_type": "stream",
     "text": [
      " o resultado de 10 - 5 = 5\n"
     ]
    }
   ],
   "source": [
    "numero_1 = int (input(\"me fale um numero: \"))\n",
    "numero_2 = int (input(\"me fale um numero: \"))\n",
    "operacao = input(\"digite o tipo de conta que voce quer fazer: \")\n",
    "\n",
    "if operacao == \"somar\" or operacao == \"+\":\n",
    "    soma = numero_1 + numero_2\n",
    "    print(f\" o resultado de {numero_1} + {numero_2} = {soma}\")\n",
    "    \n",
    "elif operacao == \"subtrair\" or operacao == \"-\":\n",
    "    soma = numero_1 - numero_2\n",
    "    print(f\" o resultado de {numero_1} - {numero_2} = {soma}\")\n",
    "    \n",
    "elif operacao == \"multiplicar\" or operacao == \"*\":\n",
    "    soma = numero_1 * numero_2\n",
    "    print(f\" o resultado de {numero_1} * {numero_2} = {soma}\")\n",
    "    \n",
    "elif operacao == \"dividir\" or operacao == \"/\":\n",
    "    soma = numero_1 / numero_2\n",
    "    print(f\" o resultado de {numero_1} / {numero_2} = {soma}\")\n",
    "    \n",
    "else:\n",
    "    print(\"teste\")\n",
    "\n"
   ]
  },
  {
   "cell_type": "markdown",
   "metadata": {},
   "source": [
    "### RECOMENDAÇÃO DE FILME"
   ]
  },
  {
   "cell_type": "code",
   "execution_count": 12,
   "metadata": {},
   "outputs": [
    {
     "name": "stdout",
     "output_type": "stream",
     "text": [
      "o filme ideal é john wick\n"
     ]
    }
   ],
   "source": [
    "genero_filme = input(\"Qual o gênero de filme você prefere? (Ação, Comédia ou Terror)\")\n",
    "\n",
    "humor = input(\"Como está seu humor hoje ? (Feliz, Neutro ou Estressado)\")\n",
    "\n",
    "if genero_filme == \"acao\" and humor == \"feliz\" :\n",
    "    print(\"o filme ideal é homem aranha\")\n",
    "    \n",
    "elif genero_filme == \"acao\" and humor == \"neutro\" :\n",
    "    print(\"o filme ideal é john wick\")\n",
    "    \n",
    "elif genero_filme == \"acao\" and humor == \"estressado\" :\n",
    "    print(\"o filme ideal é duro de matar\")\n",
    "    \n",
    "elif genero_filme == \"comedia\" and humor == \"feliz\" :\n",
    "    print(\"o filme ideal é superbad\")\n",
    "    \n",
    "elif genero_filme == \"comedia\" and humor == \"neutro\" :\n",
    "    print(\"o filme ideal é escola de rock\")\n",
    "    \n",
    "elif genero_filme == \"comedia\" and humor == \"estressado\" :\n",
    "    print(\"o filme ideal é se beber nao case\")\n",
    "    \n",
    "elif genero_filme == \"terror\" and humor == \"feliz\" :\n",
    "    print(\"o filme ideal é a noite do terror\")\n",
    "    \n",
    "elif genero_filme == \"terror\" and humor == \"neutro\" :\n",
    "    print(\"o filme ideal é invocacao do mal\")\n",
    "    \n",
    "elif genero_filme == \"terror\" and humor == \"estressado\" :\n",
    "    print(\"o filme ideal é o iluminado\")\n",
    "    \n",
    "else:\n",
    "    print(\"nao tem nenhum filme na tabela\")\n",
    "    \n",
    " "
   ]
  },
  {
   "cell_type": "markdown",
   "metadata": {},
   "source": [
    "### RECOMENDACAO JOGO"
   ]
  },
  {
   "cell_type": "code",
   "execution_count": 22,
   "metadata": {},
   "outputs": [
    {
     "name": "stdout",
     "output_type": "stream",
     "text": [
      "o jogo ideal é valorant\n"
     ]
    }
   ],
   "source": [
    "genero_jogo = input(\"qual genero de jogo voce prefere?(fps, rpg, esportes ou battle royale)\").lower()\n",
    "tempo = (input(\"quanto tempo voce tem para jogar?(curto, medio ou longo)\")).lower()\n",
    "\n",
    "if genero_jogo == \"fps\" and tempo == \"curto\" :\n",
    "    print(\"o jogo ideal é valorant\")\n",
    "    \n",
    "elif genero_jogo == \"fps\" and tempo == \"medio\" :\n",
    "    print(\"o jogo ideal é cod warzone \")\n",
    "    \n",
    "elif genero_jogo == \"fps\" and tempo == \"longo\" :\n",
    "    print(\"o jogo ideal é counter strike 2\")\n",
    "    \n",
    "elif genero_jogo == \"rpg\" and tempo == \"curto\" :\n",
    "    print(\"o jogo ideal é stardew valley\")\n",
    "    \n",
    "elif genero_jogo == \"rpg\" and tempo == \"medio\" :\n",
    "    print(\"o jogo ideal é the witcher 3\")\n",
    "    \n",
    "elif genero_jogo == \"rpg\" and tempo == \"longo\" :\n",
    "    print(\"o jogo ideal é elden ring\")\n",
    "    \n",
    "elif genero_jogo == \"esportes\" and tempo == \"curto\" :\n",
    "    print(\"o jogo ideal é rocket league\")\n",
    "    \n",
    "elif genero_jogo == \"esportes\" and tempo == \"medio\" :\n",
    "    print(\"o jogo ideal é fifa 24\")\n",
    "    \n",
    "elif genero_jogo == \"esportes\" and tempo == \"longo\" :\n",
    "    print(\"o jogo ideal é nba 2k24\")\n",
    "    \n",
    "elif genero_jogo == \"battle royale\" and tempo == \"curto\" :\n",
    "    print(\"o jogo ideal é fortnite\")\n",
    "    \n",
    "elif genero_jogo == \"battle royale\" and tempo == \"medio\" :\n",
    "    print(\"o jogo ideal é apex legends\")\n",
    "    \n",
    "elif genero_jogo == \"battle royale\" and tempo == \"longo\" :\n",
    "    print(\"o jogo ideal é pubg\")\n",
    "    \n",
    "else:\n",
    "    print(\"nao existe nenhum jogo na tabela\")"
   ]
  },
  {
   "cell_type": "markdown",
   "metadata": {},
   "source": [
    "### AVALIACAO DE TIMES"
   ]
  },
  {
   "cell_type": "code",
   "execution_count": 28,
   "metadata": {},
   "outputs": [
    {
     "name": "stdout",
     "output_type": "stream",
     "text": [
      "o jogador ideal é  cedric\n"
     ]
    }
   ],
   "source": [
    "nome_time = input(\"qual é seu time favorito?(real madrid, sao paulo, psg ou manchester united)\").lower()\n",
    "nacionalidade = input(\"qual é o seu jogador favorito?(portugal, brasil, frança, agentina )\").lower()\n",
    "\n",
    "if nome_time == \"real madrid\" and nacionalidade == \"portugal\":\n",
    "    print(\"o jogador ideal é  cristiano ronaldo\")\n",
    "    \n",
    "elif  nome_time == \"real madrid\" and nacionalidade == \"brasil\":\n",
    "    print(\"o jogador ideal é  vinicius junior\")\n",
    "    \n",
    "elif  nome_time == \"real madrid\" and nacionalidade == \"frança\":\n",
    "    print(\"o jogador ideal é  mbappe\")\n",
    "    \n",
    "elif  nome_time == \"real madrid\" and nacionalidade == \"argentina\":\n",
    "    print(\"o jogador ideal é  di maria\")\n",
    "\n",
    "elif  nome_time == \"sao paulo\" and nacionalidade == \"portugal\":\n",
    "    print(\"o jogador ideal é  cedric\")\n",
    "    \n",
    "elif  nome_time == \"sao paulo\" and nacionalidade == \"brasil\":\n",
    "    print(\"o jogador ideal é  lucas moura\")\n",
    "    \n",
    "elif  nome_time == \"sao paulo\" and nacionalidade == \"frança\":\n",
    "    print(\"o jogador ideal é  picon\")\n",
    "    \n",
    "elif  nome_time == \"sao paulo\" and nacionalidade == \"argentina\":\n",
    "    print(\"o jogador ideal é calleri\")\n",
    "    \n",
    "elif  nome_time == \"psg\" and nacionalidade == \"portugal\":\n",
    "    print(\"o jogador ideal é  vitinha\")\n",
    "    \n",
    "elif nome_time == \"psg\" and nacionalidade == \"brasil\":\n",
    "    print(\"o jogador ideal é  beraldo\")\n",
    "    \n",
    "elif nome_time == \"psg\" and nacionalidade == \"frança\":\n",
    "    print(\"o jogador ideal é  dembele\")\n",
    "    \n",
    "elif nome_time == \"psg\" and nacionalidade == \"argentina\":\n",
    "    print(\"o jogador ideal é  paredes\")\n",
    "    \n",
    "elif nome_time == \"manchester united\" and nacionalidade == \"portugal\":\n",
    "    print(\"o jogador ideal é  bruno fernandes\")\n",
    "    \n",
    "elif nome_time == \"manchester united\" and nacionalidade == \"brasil\":\n",
    "    print(\"o jogador ideal é  antony\")\n",
    "    \n",
    "elif nome_time == \"manchester united\" and nacionalidade == \"frança\":\n",
    "    print(\"o jogador ideal é  pogba\")\n",
    "    \n",
    "elif nome_time == \"manchester united\" and nacionalidade == \"argentina\":\n",
    "    print(\"o jogador ideal é  garnacho\")\n",
    "    \n",
    "else:\n",
    "    print(\"teste\")"
   ]
  },
  {
   "cell_type": "markdown",
   "metadata": {},
   "source": [
    "###  TRATAMENTO DE STRING"
   ]
  },
  {
   "cell_type": "code",
   "execution_count": 1,
   "metadata": {},
   "outputs": [
    {
     "name": "stdout",
     "output_type": "stream",
     "text": [
      "Kaio Eduardo\n",
      "12\n",
      "b\n",
      "s\n",
      "keduardoakio29@\n",
      "gmail\n"
     ]
    }
   ],
   "source": [
    "nome = \"Kaio\"  \n",
    "sobrenome = \"Eduardo\"  \n",
    "nome_completo = nome + \" \" + sobrenome  \n",
    "print(nome_completo)\n",
    "\n",
    "tamanho = len(nome_completo)\n",
    "print(tamanho)\n",
    "\n",
    "frase = \"bom dia meus consagrados\"  \n",
    "print(frase[0])   # 'b' (primeira letra)  \n",
    "print(frase[-1])  # 's' (última letra\n",
    "\n",
    "email = \"keduardoakio29@gmail.com\"  \n",
    "print(email[:15])    # \"keduardokaio29\" (do início até o índice 14)  \n",
    "print(email[15:20])  # \"gmail.\" (do índice 15 ao 20)"
   ]
  },
  {
   "cell_type": "code",
   "execution_count": 29,
   "metadata": {},
   "outputs": [
    {
     "name": "stdout",
     "output_type": "stream",
     "text": [
      "4\n",
      "que nome pequeno em\n"
     ]
    }
   ],
   "source": [
    "#QUAL O TAMANHO?\n",
    "\n",
    "nome = input(\"qual o seu nome?:\")  \n",
    "\n",
    "tamanho = len(nome)\n",
    "print(tamanho)\n",
    "\n",
    "if tamanho >=6:\n",
    "    print(\"que nome grande em\")\n",
    "    \n",
    "elif tamanho == 5:\n",
    "    print(\"ta na media\")\n",
    "    \n",
    "else:\n",
    "    print(\"que nome pequeno em\")"
   ]
  },
  {
   "cell_type": "code",
   "execution_count": 30,
   "metadata": {},
   "outputs": [
    {
     "name": "stdout",
     "output_type": "stream",
     "text": [
      "K\n",
      "s\n"
     ]
    }
   ],
   "source": [
    "meu_nome = \"Kaio Eduardo dos Santos\"\n",
    "print(meu_nome [0])\n",
    "print(meu_nome [-1])"
   ]
  },
  {
   "cell_type": "code",
   "execution_count": 2,
   "metadata": {},
   "outputs": [
    {
     "name": "stdout",
     "output_type": "stream",
     "text": [
      "Eu odeio o miguel\n"
     ]
    }
   ],
   "source": [
    "mensagem = \"Eu adoro o miguel\"  \n",
    "print(mensagem.replace(\"adoro\", \"odeio\"))"
   ]
  },
  {
   "cell_type": "code",
   "execution_count": 3,
   "metadata": {},
   "outputs": [
    {
     "name": "stdout",
     "output_type": "stream",
     "text": [
      "a escola é um lugar infernal\n"
     ]
    }
   ],
   "source": [
    "frase = input(\"digite uma frase\")\n",
    "\n",
    "print(frase.replace(\"legal\", \"infernal\"))"
   ]
  },
  {
   "cell_type": "code",
   "execution_count": 4,
   "metadata": {},
   "outputs": [
    {
     "name": "stdout",
     "output_type": "stream",
     "text": [
      "o miguel é muito gay\n",
      "O MIGUEL É MUITO GAY\n"
     ]
    }
   ],
   "source": [
    "frase = \"o MiGUel é mUItO GaY\"\n",
    "print(frase.lower())\n",
    "print(frase.upper())"
   ]
  },
  {
   "cell_type": "code",
   "execution_count": 7,
   "metadata": {},
   "outputs": [
    {
     "name": "stdout",
     "output_type": "stream",
     "text": [
      "kaio\n"
     ]
    }
   ],
   "source": [
    "meu_nome = \"                             kaio                                          \"  \n",
    "print(meu_nome.strip())"
   ]
  },
  {
   "cell_type": "code",
   "execution_count": 2,
   "metadata": {},
   "outputs": [
    {
     "name": "stdout",
     "output_type": "stream",
     "text": [
      "kaio eduardo dos santos\n",
      "['kaio', 'eduardo', 'dos', 'santos']\n",
      "kaio\n",
      "santos\n",
      "kaio.santos\n"
     ]
    }
   ],
   "source": [
    "nome_completo = input(\"digite seu nome completo :\")\n",
    "nome_sem_espaco = nome_completo.strip()\n",
    "nome_minusculo = nome_sem_espaco.lower()\n",
    "print(nome_minusculo)\n",
    "quebra_nome = nome_minusculo.split(\" \")\n",
    "print(quebra_nome)\n",
    "primeiro_nome = quebra_nome[0]\n",
    "print(primeiro_nome)\n",
    "ultimo_nome = quebra_nome[-1]\n",
    "print(ultimo_nome)\n",
    "\n",
    "usuario = primeiro_nome + \".\" + ultimo_nome\n",
    "print(usuario)"
   ]
  },
  {
   "cell_type": "markdown",
   "metadata": {},
   "source": [
    "### CALCULAR MÉDIA"
   ]
  },
  {
   "cell_type": "code",
   "execution_count": 1,
   "metadata": {},
   "outputs": [
    {
     "name": "stdout",
     "output_type": "stream",
     "text": [
      "a sua média é : 10.0\n",
      "APROVADO!\n"
     ]
    }
   ],
   "source": [
    "nota1= float (input(\"digite sua nota\"))\n",
    "nota2= float (input(\"digite sua nota\"))\n",
    "nota3= float (input(\"digite sua nota\"))\n",
    "media=(nota1+nota2+nota3)/3\n",
    "print(f\"a sua média é : {media}\")\n",
    "\n",
    "if media >=5:\n",
    "    print(\"APROVADO!\")\n",
    "    \n",
    "elif media ==4:\n",
    "    print(\"RECUPERAÇÃO!\")\n",
    "    \n",
    "    \n",
    "else:\n",
    "    print(\"TE VEJO ANO QUE VEM!\")"
   ]
  },
  {
   "cell_type": "markdown",
   "metadata": {},
   "source": [
    "### SIMULADO/REVISÃO PROVA!!!"
   ]
  },
  {
   "cell_type": "code",
   "execution_count": 4,
   "metadata": {},
   "outputs": [
    {
     "name": "stdout",
     "output_type": "stream",
     "text": [
      "agente cris, sua classificação é excelente🏅, nota 10.0\n"
     ]
    }
   ],
   "source": [
    "agente1 = input(\"diga o nome de seu agente\")\n",
    "nota = float (input(\"digite a nota de seu agente\"))\n",
    "\n",
    "if nota >=9.0 and nota <= 10.0:\n",
    "    classificacao = \"excelente🏅\"\n",
    "    print(f\"agente {agente1}, sua classificação é {classificacao}, nota {nota}\")\n",
    "    \n",
    "elif nota >=7.0 and nota <= 8.9:\n",
    "    classificacao = \"boa👍\"\n",
    "    print(f\"agente {agente1}, sua classificação é {classificacao}, nota {nota}\")\n",
    "    \n",
    "elif nota >= 5.0 and nota <= 6.9:\n",
    "    classificacao = \"regular⚠️\"\n",
    "    print(f\"agente {agente1}, sua classificação é {classificacao}, nota {nota}\")\n",
    "    \n",
    "elif nota >=3.0 and nota <= 4.9:\n",
    "    classificacao = \"ruim🚫\"\n",
    "    print(f\"agente {agente1}, sua classificação é {classificacao}, nota {nota}\")\n",
    "    \n",
    "elif nota >=0.0 and nota <= 2.9:\n",
    "    classificacao = \"critica🚨\"\n",
    "    print(f\"agente {agente1}, sua classificação é {classificacao}, nota {nota}\")\n",
    "    \n",
    "else:\n",
    "    print(\"nota invalida!❌❌❌\")"
   ]
  },
  {
   "cell_type": "markdown",
   "metadata": {},
   "source": [
    "### MONITORAMENTO DE CONSUMO DE COMBUSTIVEL"
   ]
  },
  {
   "cell_type": "code",
   "execution_count": 1,
   "metadata": {},
   "outputs": [
    {
     "name": "stdout",
     "output_type": "stream",
     "text": [
      "o gay teve um alto consumo🚨 com o consumo 0.002, recomenda-se revisar o motor ou calibrar os pneus!\n"
     ]
    }
   ],
   "source": [
    "nome_carro =  input(\"qual é o seu carro? :\")\n",
    "distancia_percorrida = float (input(\"quantos km o carro percorreu? :\"))\n",
    "combustivel_gasto = float (input(\"quantos litros de combustivel o carro consumiu\"))\n",
    "consumo_medio = distancia_percorrida/combustivel_gasto\n",
    "\n",
    "\n",
    "if consumo_medio <8.0:\n",
    "    classificacao = \"alto consumo🚨\"\n",
    "    print(f\"o {nome_carro} teve um {classificacao} com o consumo {consumo_medio}, recomenda-se revisar o motor ou calibrar os pneus!\")\n",
    "    \n",
    "elif consumo_medio ==8.0 and consumo_medio ==12.0:\n",
    "    classificacao = \"consumo moderado⚠️\"\n",
    "    print(f\"o {nome_carro} teve o {classificacao} com o consumo {consumo_medio}\")\n",
    "    \n",
    "else:\n",
    "    classificacao = \"economico🚗\"\n",
    "    print(f\"o {nome_carro} teve a classificação {classificacao} com o consumo {consumo_medio}\")"
   ]
  }
 ],
 "metadata": {
  "kernelspec": {
   "display_name": "Python 3",
   "language": "python",
   "name": "python3"
  },
  "language_info": {
   "codemirror_mode": {
    "name": "ipython",
    "version": 3
   },
   "file_extension": ".py",
   "mimetype": "text/x-python",
   "name": "python",
   "nbconvert_exporter": "python",
   "pygments_lexer": "ipython3",
   "version": "3.13.2"
  }
 },
 "nbformat": 4,
 "nbformat_minor": 2
}
