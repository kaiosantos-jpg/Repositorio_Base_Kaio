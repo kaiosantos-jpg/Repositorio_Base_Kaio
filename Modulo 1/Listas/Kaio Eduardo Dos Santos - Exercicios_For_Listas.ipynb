{
 "cells": [
  {
   "cell_type": "markdown",
   "id": "d2b6c514",
   "metadata": {},
   "source": [
    "### 🚀 Exercícios Melhorados de Python: Listas e Loops for"
   ]
  },
  {
   "cell_type": "markdown",
   "id": "44a3875e",
   "metadata": {},
   "source": [
    "### 🔍 1. Filtro de Filmes por Gênero 🎬\n",
    "\n",
    "Desafio:\n",
    "\n",
    "Crie um loop for para percorrer a lista de filmes e de gêneros e depois mostre na tela apenas os filmes de ação."
   ]
  },
  {
   "cell_type": "code",
   "execution_count": 6,
   "id": "aabd3809",
   "metadata": {},
   "outputs": [
    {
     "name": "stdout",
     "output_type": "stream",
     "text": [
      "Vingadores : Ultimato\n",
      "Velozes e Furiosos\n",
      "Missão Impossível\n"
     ]
    }
   ],
   "source": [
    "filmes = [\"O Poderoso Chefão\", \"Vingadores : Ultimato\", \"Toy Story\", \"Velozes e Furiosos\", \"Missão Impossível\", \"De Volta para o Futuro\", \"Zodiaco\"]\n",
    "generos = [\"Drama\", \"Ação\", \"Animação\", \"Ação\",\"Ação\", \"Aventura\", \"Suspense\"]\n",
    "\n",
    "for i in range(len(filmes)):\n",
    "    if generos[i] == \"Ação\":\n",
    "        print(filmes[i])"
   ]
  },
  {
   "cell_type": "markdown",
   "id": "4def914a",
   "metadata": {},
   "source": [
    "Agora crie um código que verfique a nota de cada filme e recomende para o usuário os filmes com notas superioes a 7.0"
   ]
  },
  {
   "cell_type": "code",
   "execution_count": 7,
   "id": "52470059",
   "metadata": {},
   "outputs": [
    {
     "name": "stdout",
     "output_type": "stream",
     "text": [
      "O Poderoso Chefão\n",
      "Vingadores : Ultimato\n",
      "Toy Story\n",
      "Missão Impossível\n",
      "De Volta para o Futuro\n",
      "Zodiaco\n"
     ]
    }
   ],
   "source": [
    "filmes = [\"O Poderoso Chefão\", \"Vingadores : Ultimato\", \"Toy Story\", \"Velozes e Furiosos\", \"Missão Impossível\", \"De Volta para o Futuro\", \"Zodiaco\", \"Thunderbolts\"]\n",
    "generos = [\"Drama\", \"Ação\", \"Animação\", \"Ação\",\"Ação\", \"Aventura\", \"Suspense\"]\n",
    "notas_filmes = [9.0, 9.5, 10, 5.2, 8.0, 10, 9.8, 5.5]\n",
    "\n",
    "### Seu código aqui\n",
    "\n",
    "for i in range(len(filmes)):\n",
    "    if notas_filmes[i] > 7.0:\n",
    "        print(filmes[i])"
   ]
  },
  {
   "cell_type": "markdown",
   "id": "4fca3773",
   "metadata": {},
   "source": [
    "### 🎯 2. Jogo de Adivinhação com Dicas �"
   ]
  },
  {
   "cell_type": "markdown",
   "id": "03b72809",
   "metadata": {},
   "source": [
    "Crie um jogo onde:\n",
    "\n",
    "✅ O programa escolhe uma palavra secreta aleatória de uma lista (ex: [\"banana\", \"abacaxi\", \"morango\"]).\n",
    "\n",
    "\n",
    "✅ O usuário tem 3 tentativas para adivinhar.\n",
    "\n",
    "\n",
    "\n",
    "✅ A cada erro, o programa dá uma dica (ex: \"Tem [x] letras\" ou \"Começa com [letra]\").\n",
    "\n",
    "\n",
    "\n",
    "\n",
    "✅ Use um loop for para controlar as tentativas e, se acertar, imprima \"🎉 Você ganhou! A palavra era [X]\".\n",
    "\n"
   ]
  },
  {
   "cell_type": "code",
   "execution_count": 7,
   "id": "ae165f8c",
   "metadata": {},
   "outputs": [
    {
     "name": "stdout",
     "output_type": "stream",
     "text": [
      "🎉 Você ganhou! A palavra era 'banana'.\n"
     ]
    }
   ],
   "source": [
    "palavras_secretas = [\"banana\", \"abacaxi\", \"morango\", \"Tecknológia\"]\n",
    "\n",
    "### Seu código\n",
    "palavra_certa = \"banana\"\n",
    "\n",
    "\n",
    "### Tentativas\n",
    "tentativas = 3\n",
    "\n",
    "### Looping for\n",
    "for tentativa in range(1, 4):\n",
    "    palpite = input(f\"Tentativa {tentativa}/3 - Adivinhe a palavra: \").lower()\n",
    "\n",
    "    if palpite == palavra_certa:\n",
    "        print(f\"🎉 Você ganhou! A palavra era '{palavra_certa}'.\")\n",
    "        break\n",
    "    else:\n",
    "        \n",
    "        \n",
    "        ### Dicas após erro \n",
    "        if tentativas == 1:\n",
    "            print(f\"Dica: A palavra tem {len(palavra_certa)} letras.\")\n",
    "        elif tentativas == 2:\n",
    "            print(f\"Dica: A palavra começa com '{palavra_certa[0]}'.\")\n",
    "        else:\n",
    "            print(f\"❌ Suas tentativas acabaram! A palavra era '{palavra_certa}'.\")\n",
    "\n",
    "\n",
    "\n"
   ]
  },
  {
   "cell_type": "markdown",
   "id": "8c04f1b7",
   "metadata": {},
   "source": [
    "### 📊 3. Análise de Dados de Redes Sociais 📱"
   ]
  },
  {
   "cell_type": "markdown",
   "id": "939eeec4",
   "metadata": {},
   "source": [
    "Você tem uma lista de likes por postagem:\n",
    "\n",
    "Desafio:\n",
    "\n",
    "Calcule a média de likes.\n",
    "\n",
    "\n",
    "Identifique quantos posts estão acima da média e print:\n",
    "\n",
    "\n",
    "\"📈 [X] posts bombaram (+ que [média] likes)\""
   ]
  },
  {
   "cell_type": "code",
   "execution_count": 84,
   "id": "5b380686",
   "metadata": {},
   "outputs": [
    {
     "name": "stdout",
     "output_type": "stream",
     "text": [
      "a media de likes é 164.0\n",
      "Carlinhos Maia\n",
      "Poze\n",
      "Zé Felipe\n"
     ]
    }
   ],
   "source": [
    "## Nome dos influencers\n",
    "influencers = [\"Virginia\", \"Carlinhos Maia\", \"Deolane\", \"Poze\", \"Matheus Costa\",\"Zé Felipe\"]\n",
    "### likes por post\n",
    "like_posts = [120, 245, 89, 310, 42, 178] \n",
    "## Calcula o total de likes da lista\n",
    "total_likes = sum(like_posts)\n",
    "\n",
    "# Sua vez calcule á media de likes\n",
    "media = total_likes/6\n",
    "print(f\"a media de likes é {media}\")\n",
    "\n",
    "# Depois veja qual influencer teve likes acima da média\n",
    "\n",
    "\n",
    "for i in range(len(influencers)):\n",
    "    if like_posts[i] > media:\n",
    "        print(influencers[i])\n",
    "\n",
    "    \n",
    "\n",
    "\n",
    "\n"
   ]
  },
  {
   "cell_type": "markdown",
   "id": "d7cfa84f",
   "metadata": {},
   "source": [
    "### 🎯 Bônus Extra: Desafio dos Emojis Aleatórios\n",
    "\n",
    "✅ Gere uma lista de 10 emojis aleatórios (use [\"🐍\", \"🔥\", \"🎮\", \"👾\", \"🚀\"]) e:\n",
    "\n",
    "✅ Conte quantas vezes \"🔥\" aparece.\n",
    "\n",
    "\n",
    "✅ Substitua \"🎮\" por \"💻\".\n",
    "\n",
    "\n",
    "✅ Print a lista final."
   ]
  },
  {
   "cell_type": "code",
   "execution_count": 83,
   "id": "28ab2513",
   "metadata": {},
   "outputs": [
    {
     "name": "stdout",
     "output_type": "stream",
     "text": [
      "Lista de emojis aleatórios: [['🐍', '🔥', '🎮', '👾', '🚀']]\n",
      "Lista original: ['🐍', '🔥', '🎮', '👾', '🚀', '🔥', '🔥', '🔥', '🔥', '🔥', '🚀', '🔥', '🔥', '🔥', '🚀', '🔥', '🔥', '🔥', '🔥', '👾', '🔥', '🔥', '🔥', '🔥', '🔥', '🚀', '🔥', '🔥', '🔥', '🔥', '🔥', '🔥', '🔥', '👾', '🔥', '🔥', '🔥', '🔥', '🔥', '🔥', '🔥', '🚀', '🔥', '🔥', '🔥', '🔥', '🔥']\n",
      "🔥 apareceu 37 vezes.\n",
      "Lista final: ['🐍', '🔥', '💻', '👾', '🚀', '🔥', '🔥', '🔥', '🔥', '🔥', '🚀', '🔥', '🔥', '🔥', '🚀', '🔥', '🔥', '🔥', '🔥', '👾', '🔥', '🔥', '🔥', '🔥', '🔥', '🚀', '🔥', '🔥', '🔥', '🔥', '🔥', '🔥', '🔥', '👾', '🔥', '🔥', '🔥', '🔥', '🔥', '🔥', '🔥', '🚀', '🔥', '🔥', '🔥', '🔥', '🔥']\n"
     ]
    }
   ],
   "source": [
    "lista_emojis = [\"🐍\", \"🔥\", \"🎮\", \"👾\", \"🚀\",\"🔥\",\"🔥\",\"🔥\",\"🔥\",\"🔥\",\"🚀\",\"🔥\",\"🔥\",\"🔥\",\"🚀\",\"🔥\",\"🔥\",\"🔥\",\"🔥\",\"👾\",\"🔥\",\"🔥\",\"🔥\",\"🔥\",\"🔥\",\"🚀\",\"🔥\",\"🔥\",\"🔥\",\"🔥\",\"🔥\",\"🔥\",\"🔥\",\"👾\",\"🔥\",\"🔥\",\"🔥\",\"🔥\",\"🔥\",\"🔥\",\"🔥\",\"🚀\",\"🔥\",\"🔥\",\"🔥\",\"🔥\",\"🔥\"]\n",
    "\n",
    "emojis = [\"🐍\", \"🔥\", \"🎮\", \"👾\", \"🚀\"]\n",
    "lista_aleatoria = []\n",
    "for i in range(1):\n",
    "    lista_aleatoria.append(emojis)\n",
    "    print(\"Lista de emojis aleatórios:\", lista_aleatoria)\n",
    "\n",
    "quantidade_fogo = 0\n",
    "for emoji in lista_emojis:\n",
    "    if emoji == \"🔥\":\n",
    "        quantidade_fogo += 1\n",
    "        \n",
    "lista_final = []\n",
    "for emoji in lista_emojis:\n",
    "    if emoji == \"🎮\":\n",
    "        lista_final.append(\"💻\")\n",
    "    else:\n",
    "        lista_final.append(emoji)\n",
    "        \n",
    "print(\"Lista original:\", lista_emojis)\n",
    "print(f\"🔥 apareceu {quantidade_fogo} vezes.\")\n",
    "print(\"Lista final:\", lista_final)\n",
    "\n"
   ]
  }
 ],
 "metadata": {
  "kernelspec": {
   "display_name": "Python 3",
   "language": "python",
   "name": "python3"
  },
  "language_info": {
   "codemirror_mode": {
    "name": "ipython",
    "version": 3
   },
   "file_extension": ".py",
   "mimetype": "text/x-python",
   "name": "python",
   "nbconvert_exporter": "python",
   "pygments_lexer": "ipython3",
   "version": "3.13.2"
  }
 },
 "nbformat": 4,
 "nbformat_minor": 5
}
